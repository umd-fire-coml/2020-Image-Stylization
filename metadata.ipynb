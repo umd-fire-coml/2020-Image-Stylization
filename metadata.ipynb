{
 "cells": [
  {
   "cell_type": "code",
   "execution_count": null,
   "metadata": {},
   "outputs": [],
   "source": [
    "import os\n",
    "from PIL import Image\n",
    "from PIL.ExifTags import TAGS\n",
    "\n",
    "def print_metadata(fpath):\n",
    "    im = Image.open(fpath)\n",
    "    file_format = im.format\n",
    "    image_mode = im.mode\n",
    "    image_size = im.size\n",
    "    color_palette = im.palette\n",
    "    print(\"Attributes of image:%s\"%fpath)\n",
    "    print(\"The file format of the image is:%s\"%file_format)\n",
    "    print(\"The mode of the image is:%s\"%image_mode)\n",
    "    print(\"The size of the image is:width %d pixels,height %d pixels\"%image_size)\n",
    "    print(\"Color palette used in image:%s\"%color_palette)\n",
    "    print(\"File Size In Bytes:- \"+str(len(im.fp.read())))\n",
    "    print(\"\\n\")"
   ]
  },
  {
   "cell_type": "code",
   "execution_count": null,
   "metadata": {},
   "outputs": [],
   "source": [
    "inputs = os.listdir('./data/input')\n",
    "number_files = len(inputs)\n",
    "\n",
    "#then, iterate through & display\n",
    "for i in range(1, number_files+1):\n",
    "    input_image = './data/input/in'+str(i)+'.png'\n",
    "    print_metadata(input_image)\n",
    "    #style_image = './data/style/tar'+str(i)+'.png'\n",
    "    #print_metadata(style_image)"
   ]
  },
  {
   "cell_type": "code",
   "execution_count": null,
   "metadata": {},
   "outputs": [],
   "source": []
  }
 ],
 "metadata": {
  "kernelspec": {
   "display_name": "Python 3",
   "language": "python",
   "name": "python3"
  },
  "language_info": {
   "codemirror_mode": {
    "name": "ipython",
    "version": 3
   },
   "file_extension": ".py",
   "mimetype": "text/x-python",
   "name": "python",
   "nbconvert_exporter": "python",
   "pygments_lexer": "ipython3",
   "version": "3.6.3"
  }
 },
 "nbformat": 4,
 "nbformat_minor": 4
}
