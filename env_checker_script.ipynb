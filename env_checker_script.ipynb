{
 "metadata": {
  "language_info": {
   "codemirror_mode": {
    "name": "ipython",
    "version": 3
   },
   "file_extension": ".py",
   "mimetype": "text/x-python",
   "name": "python",
   "nbconvert_exporter": "python",
   "pygments_lexer": "ipython3",
   "version": 3
  },
  "orig_nbformat": 2
 },
 "nbformat": 4,
 "nbformat_minor": 2,
 "cells": [
  {
   "cell_type": "code",
   "execution_count": null,
   "metadata": {},
   "outputs": [],
   "source": [
    "import subprocess\n",
    "import re\n",
    "\n",
    "expect_yml = open(\"environment.yml\")\n",
    "\n",
    "# Consume all the lines before dependencies.\n",
    "while True:\n",
    "    line = expect_yml.readline()\n",
    "    if line == \"dependencies:\\n\":\n",
    "        line = expect_yml.readline()\n",
    "        break\n",
    "\n",
    "# Construct the dependency&version list\n",
    "dep_list = []\n",
    "while line:\n",
    "    result = re.search(rf'- (\\w+)=?(.*)\\n?', line).groups()\n",
    "    dep_list.append(result)\n",
    "    line = expect_yml.readline()\n",
    "\n",
    "# Get the current environment info\n",
    "subprocess = subprocess.Popen(\"conda list \", shell=True, stdout=subprocess.PIPE)\n",
    "subprocess_return = subprocess.stdout.read()\n",
    "curr_env = subprocess_return.decode()\n",
    "\n",
    "# Check if each of the dependency is in the curr_env\n",
    "invalid = []\n",
    "for i in dep_list:\n",
    "    #     re.search(rf'{(i[0]})\\s+{i[1]}')\n",
    "    if not re.search(rf'({i[0]})\\s+{i[1]}', curr_env):\n",
    "        invalid.append(i);\n",
    "\n",
    "# Print the result\n",
    "if not invalid:\n",
    "    print(\"Your environment is all set!\")\n",
    "else:\n",
    "    print(\"Missing the following dependencies:\")\n",
    "    print(invalid)"
   ]
  }
 ]
}